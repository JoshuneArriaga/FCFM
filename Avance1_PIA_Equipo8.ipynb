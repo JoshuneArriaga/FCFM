{
  "nbformat": 4,
  "nbformat_minor": 0,
  "metadata": {
    "colab": {
      "name": "Avance1_PIA_Equipo8.ipynb",
      "provenance": [],
      "authorship_tag": "ABX9TyMXxJbOV9LvKbsY5w/xfEZ8",
      "include_colab_link": true
    },
    "kernelspec": {
      "name": "python3",
      "display_name": "Python 3"
    },
    "language_info": {
      "name": "python"
    }
  },
  "cells": [
    {
      "cell_type": "markdown",
      "metadata": {
        "id": "view-in-github",
        "colab_type": "text"
      },
      "source": [
        "<a href=\"https://colab.research.google.com/github/JoshuneArriaga/FCFM/blob/main/Avance1_PIA_Equipo8.ipynb\" target=\"_parent\"><img src=\"https://colab.research.google.com/assets/colab-badge.svg\" alt=\"Open In Colab\"/></a>"
      ]
    },
    {
      "cell_type": "markdown",
      "metadata": {
        "id": "_Nk_Q8hLoLNx"
      },
      "source": [
        "### **Equipo 8**\n",
        "### Grupo 001 Lunes 7:00pm-10:00pm\n",
        "**Integrantes:**\n",
        "\n",
        "\n",
        "\n",
        "> Brenda Sofía Hernández Hdz.          1801285\n",
        "\n",
        "\n",
        "> Andrea Sarahi Gómez Ávila            2034174\n",
        "\n",
        "\n",
        "\n",
        "> Joshune Juditht Arriaga Gómez        1853668\n",
        "\n",
        "\n",
        "> Héctor Eleazar Escobedo              1745909\n",
        "\n",
        "\n",
        "> Daniel Jair Martinez Ávila           1872137"
      ]
    },
    {
      "cell_type": "markdown",
      "metadata": {
        "id": "fz5uR-gbnDYv"
      },
      "source": [
        "Base de datos: Bitcoin Historical Data"
      ]
    },
    {
      "cell_type": "markdown",
      "metadata": {
        "id": "sCnscULznIza"
      },
      "source": [
        "URL:https://www.kaggle.com/mczielinski/bitcoin-historical-data"
      ]
    },
    {
      "cell_type": "markdown",
      "metadata": {
        "id": "9jeFzNTSnVHG"
      },
      "source": [
        "Introducción:\n",
        "\n",
        "El bitcoin es una moneda virtual que, como cualquier otra, puede ser utilizada para el intercambio de productos o servicios. La diferencia con las divisas tradicionales del resto del mundo —como el dólar o el peso— es que no está a expensas de un banco central, no depende de ninguna autoridad financiera, y no existe físicamente.\n",
        "\n",
        "\n"
      ]
    },
    {
      "cell_type": "markdown",
      "metadata": {
        "id": "VFNAabAdok2C"
      },
      "source": [
        "**Descripción de datos**"
      ]
    },
    {
      "cell_type": "markdown",
      "metadata": {
        "id": "CcBhxjYHFwXa"
      },
      "source": [
        "\n",
        "a) ¿Qué tipo de datos son?\n",
        "\n",
        "Los datos que se trabajaran son los precios de apertura, cierre, volumen del precio del la moneda virtual bitcoin durante enero del 2012 a marzo del 2021"
      ]
    },
    {
      "cell_type": "markdown",
      "metadata": {
        "id": "g4FqJRnfGair"
      },
      "source": [
        "\n",
        "b) Descripción de las columnas.\n",
        "\n",
        "Las columnas contienen el tiempo en unidad Unix, el precio de apertura, cierre, el precio maximo, el precio minimo y el volumen"
      ]
    },
    {
      "cell_type": "markdown",
      "metadata": {
        "id": "_4Ni49g0HEWm"
      },
      "source": [
        "**Justificación del uso de datos**"
      ]
    },
    {
      "cell_type": "markdown",
      "metadata": {
        "id": "YL5KCR0aHVX9"
      },
      "source": [
        "a)Caracteristicas notables\n",
        "\n",
        "\n"
      ]
    },
    {
      "cell_type": "markdown",
      "metadata": {
        "id": "ct6UgyCRFFtw"
      },
      "source": [
        "Objetivo Final\n",
        "\n",
        "\n",
        "*   Predecir el precio del bitcoin mediante un modelo de mayor precisión\n",
        "\n",
        "Objetivo secundario\n",
        "\n",
        "\n",
        "*   Identificar las posibles causas en las que el valor del bitcoin entro en recesión\n",
        "\n",
        "\n"
      ]
    },
    {
      "cell_type": "markdown",
      "metadata": {
        "id": "QRMHKOlDobQi"
      },
      "source": [
        "Limpieza de datos"
      ]
    },
    {
      "cell_type": "code",
      "metadata": {
        "id": "g-Dd8Cyco3JL"
      },
      "source": [
        "import pandas as pd\n",
        "import numpy as np\n",
        "import json"
      ],
      "execution_count": null,
      "outputs": []
    },
    {
      "cell_type": "code",
      "metadata": {
        "id": "XerGZcJ1o5ua"
      },
      "source": [
        "from google.colab import files\n",
        "files.upload()"
      ],
      "execution_count": null,
      "outputs": []
    },
    {
      "cell_type": "code",
      "metadata": {
        "id": "a92Qf_9Hpolj"
      },
      "source": [
        "bit = pd.read_csv(\"bitstampUSD_1-min_data_2012-01-01_to_2021-03-31.csv\")"
      ],
      "execution_count": null,
      "outputs": []
    },
    {
      "cell_type": "code",
      "metadata": {
        "colab": {
          "base_uri": "https://localhost:8080/"
        },
        "id": "k3dlgMbcq0jg",
        "outputId": "1f546c72-f7b6-4797-823c-cdb821fcacd7"
      },
      "source": [
        "bit.shape"
      ],
      "execution_count": null,
      "outputs": [
        {
          "output_type": "execute_result",
          "data": {
            "text/plain": [
              "(1733518, 8)"
            ]
          },
          "metadata": {},
          "execution_count": 6
        }
      ]
    },
    {
      "cell_type": "code",
      "metadata": {
        "colab": {
          "base_uri": "https://localhost:8080/"
        },
        "id": "jOEPo36hrfKJ",
        "outputId": "c5c317f7-1dfb-49ca-a774-911d7527c2d0"
      },
      "source": [
        "bit.columns"
      ],
      "execution_count": null,
      "outputs": [
        {
          "output_type": "execute_result",
          "data": {
            "text/plain": [
              "Index(['Timestamp', 'Open', 'High', 'Low', 'Close', 'Volume_(BTC)',\n",
              "       'Volume_(Currency)', 'Weighted_Price'],\n",
              "      dtype='object')"
            ]
          },
          "metadata": {},
          "execution_count": 7
        }
      ]
    },
    {
      "cell_type": "code",
      "metadata": {
        "colab": {
          "base_uri": "https://localhost:8080/"
        },
        "id": "qVb0pigori4W",
        "outputId": "33d0ae96-0c1d-4ec5-88f6-35ce2a223260"
      },
      "source": [
        "bit.dtypes"
      ],
      "execution_count": null,
      "outputs": [
        {
          "output_type": "execute_result",
          "data": {
            "text/plain": [
              "Timestamp              int64\n",
              "Open                 float64\n",
              "High                 float64\n",
              "Low                  float64\n",
              "Close                float64\n",
              "Volume_(BTC)         float64\n",
              "Volume_(Currency)    float64\n",
              "Weighted_Price       float64\n",
              "dtype: object"
            ]
          },
          "metadata": {},
          "execution_count": 9
        }
      ]
    },
    {
      "cell_type": "code",
      "metadata": {
        "colab": {
          "base_uri": "https://localhost:8080/"
        },
        "id": "-OYXvH5Crr3L",
        "outputId": "304d5d83-c1e6-4fbc-be2c-110e89614b4c"
      },
      "source": [
        "bit.isnull().any()"
      ],
      "execution_count": null,
      "outputs": [
        {
          "output_type": "execute_result",
          "data": {
            "text/plain": [
              "Timestamp            False\n",
              "Open                  True\n",
              "High                  True\n",
              "Low                   True\n",
              "Close                 True\n",
              "Volume_(BTC)          True\n",
              "Volume_(Currency)     True\n",
              "Weighted_Price        True\n",
              "dtype: bool"
            ]
          },
          "metadata": {},
          "execution_count": 10
        }
      ]
    },
    {
      "cell_type": "markdown",
      "metadata": {
        "id": "t1CPhAZeJTgM"
      },
      "source": [
        "Base de datos:Movies on Netflix, Prime Video, Hulu and Disney+\n",
        "\n",
        "Url:https://www.kaggle.com/ruchi798/movies-on-netflix-prime-video-hulu-and-disney"
      ]
    },
    {
      "cell_type": "markdown",
      "metadata": {
        "id": "PBXg27UbJdBc"
      },
      "source": [
        "a) Cuáles fueron las características que les llamó la atención de los datos. Qué les hizo querer trabajar con ellos.\n",
        "\n",
        " lo que mas, nos llamo la atención, fue que  en la base de datos participa IMDb y ellos son la base de datos mas grande del mundo, entonces teníamos muchas opciones para hablar de las películas, ya que la mayoría de la información la podiamos encontrar ahí."
      ]
    },
    {
      "cell_type": "markdown",
      "metadata": {
        "id": "pqMrCT82Jj1I"
      },
      "source": [
        "**Descripción de datos**\n",
        "\n",
        "a)\tLa tabla en la que viene la información, es muy fácil y muy entendible por lo que se pueden tomar los datos de manera muy fácil.\n",
        "\n",
        "b)\tTitulo: Nombre en inglés del titulo de la pelicula\n",
        "Grupo de edad: Entero, número único asignado para el grupo de edad al cual va dedicada la pelicula\n",
        "Año en que se produjo:enterp, numero que dice en que año se produjo la pelicula\n",
        "IMDb rating:  Flotante, valor con el cual se le califica a la película según IMDb\n",
        "Rotten tomatoes: Flotante, valor con el cual se le califica a la película según Rotten Tomatoes"
      ]
    },
    {
      "cell_type": "markdown",
      "metadata": {
        "id": "6idNm4kqJw8Q"
      },
      "source": [
        "**Preguntas de interés **\n",
        "\n",
        "¿Cómo les podría servir la base de datos a usuarios que están escogiendo plataforma de video?\n",
        "\n",
        "¿Qué tanto podría influenciar una base de datos en la decisión de un cliente para la contratación de una plataforma de video ?"
      ]
    }
  ]
}
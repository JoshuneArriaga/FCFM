{
  "nbformat": 4,
  "nbformat_minor": 0,
  "metadata": {
    "colab": {
      "name": "Ej_Python_1853668.ipynb",
      "provenance": [],
      "authorship_tag": "ABX9TyMWS9UKz26Ljto/CPPBT3ai",
      "include_colab_link": true
    },
    "kernelspec": {
      "name": "python3",
      "display_name": "Python 3"
    },
    "language_info": {
      "name": "python"
    }
  },
  "cells": [
    {
      "cell_type": "markdown",
      "metadata": {
        "id": "view-in-github",
        "colab_type": "text"
      },
      "source": [
        "<a href=\"https://colab.research.google.com/github/JoshuneArriaga/FCFM/blob/main/Ej_Python_1853668.ipynb\" target=\"_parent\"><img src=\"https://colab.research.google.com/assets/colab-badge.svg\" alt=\"Open In Colab\"/></a>"
      ]
    },
    {
      "cell_type": "markdown",
      "metadata": {
        "id": "GWqGEXfM9a29"
      },
      "source": [
        "Ejercicios Python \n"
      ]
    },
    {
      "cell_type": "markdown",
      "metadata": {
        "id": "ijHnfUBM9mdG"
      },
      "source": [
        "**Ejercicio 1**"
      ]
    },
    {
      "cell_type": "code",
      "metadata": {
        "id": "yzCfpf4b9o3T"
      },
      "source": [
        "mat=\"1853668\"\n",
        "nom=  \"Joshune Judith Arriaga Gomez\"\n",
        "nommat= nom + mat\n",
        "print(nommat)\n"
      ],
      "execution_count": null,
      "outputs": []
    },
    {
      "cell_type": "markdown",
      "metadata": {
        "id": "226Eo94QAZyb"
      },
      "source": [
        "**Ejercicio 2**"
      ]
    },
    {
      "cell_type": "code",
      "metadata": {
        "id": "tDGxysX3Ab3M"
      },
      "source": [
        "x= int(input(\"Introduce un número: \"))\n",
        "y=int(input(\"Introduce otro numero: \"))\n",
        "\n",
        "op=0\n",
        "\n",
        "\n",
        "while op<1:\n",
        "  print(\"Que desea hacer? 1)Sumar 2)Restar 3)Multiplicar 4) Dividir 5)Exponente 6)Salir\")\n",
        "  op= int(input(\"Opcion: \"))\n",
        "\n",
        "  if op ==1:\n",
        "    print(\"Resultado: \", x+y)\n",
        "    op=0\n",
        "  elif op ==2:\n",
        "   print(\"Resultado: \", x-y)\n",
        "   op=0\n",
        "  elif op ==3:\n",
        "     print(\"Resultado: \", x*y)\n",
        "     op=0\n",
        "  elif op==4:\n",
        "    print(\"Resultado: \", x/y)\n",
        "    op=0\n",
        "  elif op==5:\n",
        "    print(\"Resultado: \", x**y)\n",
        "    op=0\n",
        "  elif op==6:\n",
        "    print(\"Gracias por usar el programa\")\n",
        "    op= 6\n",
        "  else:\n",
        "      print(\"opcion invalida\")"
      ],
      "execution_count": null,
      "outputs": []
    },
    {
      "cell_type": "markdown",
      "metadata": {
        "id": "iYpMW6cKKBun"
      },
      "source": [
        "**Ejercicio 3**"
      ]
    },
    {
      "cell_type": "code",
      "metadata": {
        "id": "SSKXGhmxKEDJ"
      },
      "source": [
        "for i in range(1,30):\n",
        "  if i % 3==0:\n",
        "    print(i)\n",
        "\n",
        "suma=0\n",
        "for i in range(1,31):\n",
        "  if i % 3==0:\n",
        "    suma= suma + i\n",
        "\n",
        "print(\"Suma: \", suma)"
      ],
      "execution_count": null,
      "outputs": []
    },
    {
      "cell_type": "markdown",
      "metadata": {
        "id": "b1irmEm9MbvT"
      },
      "source": [
        "**Ejercicio 4**"
      ]
    },
    {
      "cell_type": "code",
      "metadata": {
        "id": "wWdahwBuMdjf"
      },
      "source": [
        "num=int(input(\"Introduzca un numero: \"))\n",
        "\n",
        "if num % 2 ==0:\n",
        "  print(\"El numero \", num, \"es par\")\n",
        "else:\n",
        " print(\"El numero \", num, \"es impar\")\n",
        "\n",
        "cont=1\n",
        "for i in range(2,num+1):\n",
        "  if num% i==0:\n",
        "    cont= cont +1\n",
        "\n",
        "if cont ==2:\n",
        "  print(\"El numero \",num,\"es primo\")\n",
        "else:\n",
        "   print(\"El numero \",num,\"No es primo\")"
      ],
      "execution_count": null,
      "outputs": []
    },
    {
      "cell_type": "markdown",
      "metadata": {
        "id": "Lmmftp-UQwGj"
      },
      "source": [
        "Ejercicio 5"
      ]
    },
    {
      "cell_type": "code",
      "metadata": {
        "id": "0539ZTZxQykW"
      },
      "source": [
        "#Calculadora usando clases\n",
        "\n",
        "class calc:\n",
        "  def __init__(self, n1, n2):\n",
        "    self.n1=int(n1)\n",
        "    self.n2=int(n2)\n",
        "\n",
        "  def suma(self):\n",
        "        sum = self.n1 + self.n2\n",
        "        print(\"Resultado: \", sum)\n",
        "\n",
        "  def resta(self):\n",
        "        rest= self.n1 - self.n2\n",
        "        print(\"Resultado: \", rest)\n",
        "\n",
        "  def multiplicar(self):\n",
        "        mult = self.n1 * self.n2\n",
        "        print(\"Resultado: \", mult)\n",
        "\n",
        "  def division(self):\n",
        "        div = self.n1 / self.n2\n",
        "        print(\"Resultado: \", div)\n",
        "\n",
        "  def exponente(self):\n",
        "     exp = self.n1 ** self.n2\n",
        "     print(\"Resultado: \", exp)\n",
        "\n",
        "n1= int(input(\"Introduce un número: \"))\n",
        "n2=int(input(\"Introduce otro numero: \"))\n",
        "\n",
        "calculadora=calc(n1,n2)\n",
        "  \n",
        "op=0\n",
        "\n",
        "#Menu opciones\n",
        "while op<1:\n",
        "  print(\"Que desea hacer? 1)Sumar 2)Restar 3)Multiplicar 4) Dividir 5)Exponente 6)Salir\")\n",
        "  op= int(input(\"Opcion: \"))\n",
        "  \n",
        "  if op ==1:\n",
        "    calculadora.suma()\n",
        "    op=0\n",
        "  elif op ==2:\n",
        "   calculadora.resta()\n",
        "   op=0\n",
        "  elif op ==3:\n",
        "     calculadora.multiplicar()\n",
        "     op=0\n",
        "  elif op==4:\n",
        "    calculadora.division()\n",
        "    op=0\n",
        "  elif op==5:\n",
        "    calculadora.exponente()\n",
        "    op=0\n",
        "  elif op==6:\n",
        "    print(\"Gracias por usar el programa\")\n",
        "    op= 6\n",
        "  else:\n",
        "      print(\"opcion invalida\")\n"
      ],
      "execution_count": null,
      "outputs": []
    },
    {
      "cell_type": "markdown",
      "metadata": {
        "id": "-aD_eN3MRCYF"
      },
      "source": [
        "**Ejercicios Tupla**"
      ]
    },
    {
      "cell_type": "markdown",
      "metadata": {
        "id": "fl8WNowgTqBB"
      },
      "source": [
        "\n",
        "\n",
        "*   Crear una variable flotante, integer, boleana y compleja e imprimir el tipo de variable que es\n",
        "\n"
      ]
    },
    {
      "cell_type": "code",
      "metadata": {
        "id": "-pCFx_NYREv1"
      },
      "source": [
        "\n",
        "x=45.56\n",
        "y=80\n",
        "z=True\n",
        "u=657.23e+34\n",
        "\n",
        "print(type(x))\n",
        "print(type(y))\n",
        "print(type(z))\n",
        "print(type(u))\n"
      ],
      "execution_count": null,
      "outputs": []
    },
    {
      "cell_type": "markdown",
      "metadata": {
        "id": "RhFp7CAPTwBv"
      },
      "source": [
        "\n",
        "\n",
        "*   Crear una tupla con valores enteros imprimir el primer y ultimo valor\n"
      ]
    },
    {
      "cell_type": "code",
      "metadata": {
        "colab": {
          "base_uri": "https://localhost:8080/"
        },
        "id": "DPrTF12vUCxg",
        "outputId": "19cf002e-6939-455e-b845-9ef4bd40cbf7"
      },
      "source": [
        "#\n",
        "t1 = (20, 45, 10, 9, 13, 30)\n",
        "\n",
        "print(t1[0])\n",
        "\n",
        "print(t1[5])\n"
      ],
      "execution_count": 101,
      "outputs": [
        {
          "output_type": "stream",
          "text": [
            "20\n",
            "30\n"
          ],
          "name": "stdout"
        }
      ]
    },
    {
      "cell_type": "markdown",
      "metadata": {
        "id": "EnRcnScwXwIL"
      },
      "source": [
        "\n",
        "\n",
        "*   Añadir 3 valores de string a la tupla.\n"
      ]
    },
    {
      "cell_type": "code",
      "metadata": {
        "id": "Gndhms-cX0u7"
      },
      "source": [
        "t1 = (20, 45, 10, 9, 13, 30)\n",
        "t1 = t1.__add__(('s1',))\n",
        "t1=t1.__add__(('s2',))\n",
        "t1=t1.__add__(('s3',))\n",
        "print(t1)\n",
        "#Verificar si una variable existe dentro de la tupla\n",
        "30 in t1"
      ],
      "execution_count": null,
      "outputs": []
    },
    {
      "cell_type": "markdown",
      "metadata": {
        "id": "_9UVpf_XYDAZ"
      },
      "source": [
        "\n",
        "**Ejercicios** **Listas**\n"
      ]
    },
    {
      "cell_type": "markdown",
      "metadata": {
        "id": "pj5s-aRVZyqf"
      },
      "source": [
        "\n",
        "\n",
        "*  Crear una lista con 40 elementos aleatorios enteros. \n",
        "*  Con una funcion (def) crear dos listas nuevas a partir de la lista creada por numeros aleatorios, en la cual en una esten los elementos pares, y en la otra los elementos impares\n",
        "*   Ordenar los elementos de la lista par de mayor a menor, y los de la lista impar de menor a mayor.\n",
        "\n",
        "*  Utilizar al menos cuatro de las funciones de listas en python en la lista original de 40 elementos.\n",
        "\n",
        "\n",
        "\n",
        "\n",
        "\n",
        "\n"
      ]
    },
    {
      "cell_type": "code",
      "metadata": {
        "id": "4vRj-CepYJy3"
      },
      "source": [
        "import random\n",
        "list1= []\n",
        "for i in range(0,40):\n",
        "  al= random.randint(1,1000)\n",
        "  list1.append(al)\n",
        "print(list1)\n",
        "\n",
        "\n",
        "#Crear dos listas a partir de la primera separando numeros pares e impares\n",
        "\n",
        "def func_listas(list1):\n",
        "  listpar= []\n",
        "  listimp= []\n",
        "  for i in list1:\n",
        "    if i % 2 ==0:\n",
        "      listpar.append(i)\n",
        "    else: \n",
        "     listimp.append(i)\n",
        "  return listpar, listimp\n",
        "\n",
        "\n",
        "\n",
        "\n"
      ],
      "execution_count": null,
      "outputs": []
    },
    {
      "cell_type": "code",
      "metadata": {
        "id": "Drf4gkrxkg8i"
      },
      "source": [
        "#Crear dos variables con la longitud de ambas listas nuevas e imprimir las variables\n",
        "listap,listai = func_listas(list1)\n",
        "\n",
        "print(\"lista pares: \", listap)\n",
        "print(\"lista impares: \", listai)"
      ],
      "execution_count": null,
      "outputs": []
    },
    {
      "cell_type": "code",
      "metadata": {
        "id": "KEm-xTTAkdq4"
      },
      "source": [
        "#Ordenar los elementos de la lista par de mayor a menor, y los de la lista impar de menor a mayor.\n",
        "\n",
        "ordeni= sorted(listai) #sorted ordena la lista de menor a mayor\n",
        "ordenp= sorted(listap,reverse=True) #Se utiliza reverse=true para ordenar los elementos de mayor a menor\n",
        "print(\"listas ordenadas\")\n",
        "print(\"lista par: \", ordenp)\n",
        "print(\"lista impar: \", ordeni)"
      ],
      "execution_count": null,
      "outputs": []
    },
    {
      "cell_type": "code",
      "metadata": {
        "id": "7f7VDF8Iidiz"
      },
      "source": [
        "#Utilizar al menos cuatro de las funciones de listas en python en la lista original de 40 elementos.\n",
        "list1.append(245) #Agrega el numero 245 al final de la lista\n",
        "print(list1)\n",
        "list2= list1.copy() #se utiliza la funcion copy para copiar la lista\n",
        "print(list2)\n",
        "list1.extend([1005,5003]) #Agrega los numeros al final de la lista\n",
        "print(list1)\n",
        "list1.insert(4,3) #Inserta el numero 3 en la quinta posicion de la lista\n",
        "print(list1)"
      ],
      "execution_count": null,
      "outputs": []
    },
    {
      "cell_type": "markdown",
      "metadata": {
        "id": "EL6l4XKwlGIW"
      },
      "source": [
        "**Ejercicios Diccionarios**"
      ]
    },
    {
      "cell_type": "markdown",
      "metadata": {
        "id": "JhUQkzmllNp3"
      },
      "source": [
        "\n",
        "\n",
        "*   \n",
        "Crear un diccionario de 6 personas que conozcas con su primer nombre y su edad.\n",
        "*  Crear una lista con los valores de la edad y reacomodar la lista de menor a mayor valor.\n",
        "\n",
        "*   Usando el diccionario y un loop, imprimir solo los nombres.\n",
        "*   Añadir dos personas nuevas a tu diccionario, incluyendo edad\n"
      ]
    },
    {
      "cell_type": "code",
      "metadata": {
        "id": "pA9bv1WQlkvK"
      },
      "source": [
        "#Crear un diccionario de 6 personas que conozcas con su primer nombre y su edad.\n",
        "\n",
        "dict1={'Esteban' : 20, 'Jenifer':24, 'Paola':19, 'Angela':20, 'Brandon':22, 'Brayan':23}\n",
        "\n"
      ],
      "execution_count": 165,
      "outputs": []
    },
    {
      "cell_type": "code",
      "metadata": {
        "id": "_Q7Rpt-soLhh"
      },
      "source": [
        "#Crear una lista con los valores de la edad y reacomodar la lista de menor a mayor valor.\n",
        "list(dict1.values())\n",
        "sorted(list(dict1.values()))"
      ],
      "execution_count": null,
      "outputs": []
    },
    {
      "cell_type": "code",
      "metadata": {
        "id": "0hdBx6J6oC-D"
      },
      "source": [
        "#Usando el diccionario y un loop, imprimir solo los nombres.\n",
        "for i in dict1: print(i)"
      ],
      "execution_count": null,
      "outputs": []
    },
    {
      "cell_type": "code",
      "metadata": {
        "id": "GUlkRCTBoQZO"
      },
      "source": [
        "#Añadir dos personas nuevas a tu diccionario, incluyendo edad\n",
        "dict1['Carolina']= 21\n",
        "dict1['Jesus']= 18\n",
        "print(dict1)"
      ],
      "execution_count": null,
      "outputs": []
    },
    {
      "cell_type": "markdown",
      "metadata": {
        "id": "xJVw5TRnpcZj"
      },
      "source": [
        "**Ejercicios Sets**"
      ]
    },
    {
      "cell_type": "markdown",
      "metadata": {
        "id": "k0f2W05ypi9v"
      },
      "source": [
        "\n",
        "\n",
        "*   Crea un set con 100 numeros aleatorios enteros del 1 al 25.\n",
        "\n",
        "\n",
        "\n",
        "*   Comprueba la longitud de tu set.\n",
        "\n",
        "\n",
        "\n",
        "*   \n",
        "Crea una lista de 5 numeros aleatorios del 1 al 10 y comprueba si cada valor aparece en el set inicial.\n",
        "\n"
      ]
    },
    {
      "cell_type": "code",
      "metadata": {
        "id": "8sMnXoiMprZ5"
      },
      "source": [
        "import random\n",
        "set1= set()\n",
        "cont=0\n",
        "\n",
        "def num_aleatorios():\n",
        "    al=random.randint(1,25)\n",
        "    return al\n",
        "\n",
        "for n in range(0,100):\n",
        "  num=num_aleatorios()\n",
        "  set1.add(num)\n",
        "\n"
      ],
      "execution_count": 244,
      "outputs": []
    },
    {
      "cell_type": "code",
      "metadata": {
        "id": "mp9U-fBJzKqQ"
      },
      "source": [
        "#Comprobar longitud del set\n",
        "print(len(set1)) #Un set no puede tener elementos duplicados\n",
        "print(set1)"
      ],
      "execution_count": null,
      "outputs": []
    },
    {
      "cell_type": "code",
      "metadata": {
        "id": "H8EfPnKqzg9s"
      },
      "source": [
        "#Crea una lista de 5 numeros aleatorios del 1 al 10 y comprueba si cada valor aparece en el set inicial.\n",
        "listnew= []\n",
        "\n",
        "for n in range(0,5):\n",
        " num=random.randint(1,10)\n",
        " listnew.append(num)\n",
        "\n",
        "print(listnew)\n",
        "\n",
        "for i in range(0,5):\n",
        " listnew[i] in set1\n",
        " print(\"El valor\",listnew[i],\"Esta en el set\")"
      ],
      "execution_count": null,
      "outputs": []
    }
  ]
}
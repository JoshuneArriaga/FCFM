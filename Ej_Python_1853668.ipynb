{
  "nbformat": 4,
  "nbformat_minor": 0,
  "metadata": {
    "colab": {
      "name": "Ej_Python_1853668.ipynb",
      "provenance": [],
      "authorship_tag": "ABX9TyMWS9UKz26Ljto/CPPBT3ai",
      "include_colab_link": true
    },
    "kernelspec": {
      "name": "python3",
      "display_name": "Python 3"
    },
    "language_info": {
      "name": "python"
    }
  },
  "cells": [
    {
      "cell_type": "markdown",
      "metadata": {
        "id": "view-in-github",
        "colab_type": "text"
      },
      "source": [
        "<a href=\"https://colab.research.google.com/github/JoshuneArriaga/FCFM/blob/main/Ej_Python_1853668.ipynb\" target=\"_parent\"><img src=\"https://colab.research.google.com/assets/colab-badge.svg\" alt=\"Open In Colab\"/></a>"
      ]
    },
    {
      "cell_type": "markdown",
      "metadata": {
        "id": "GWqGEXfM9a29"
      },
      "source": [
        "Ejercicios Python \n"
      ]
    },
    {
      "cell_type": "markdown",
      "metadata": {
        "id": "ijHnfUBM9mdG"
      },
      "source": [
        "**Ejercicio 1**"
      ]
    },
    {
      "cell_type": "code",
      "metadata": {
        "colab": {
          "base_uri": "https://localhost:8080/"
        },
        "id": "yzCfpf4b9o3T",
        "outputId": "5992e7a8-f2f9-46b3-98ec-19281d398c88"
      },
      "source": [
        "mat=\"1853668\"\n",
        "nom=  \"Joshune Judith Arriaga Gomez\"\n",
        "nommat= nom + mat\n",
        "print(nommat)\n"
      ],
      "execution_count": 275,
      "outputs": [
        {
          "output_type": "stream",
          "text": [
            "Joshune Judith Arriaga Gomez1853668\n"
          ],
          "name": "stdout"
        }
      ]
    },
    {
      "cell_type": "markdown",
      "metadata": {
        "id": "226Eo94QAZyb"
      },
      "source": [
        "**Ejercicio 2**"
      ]
    },
    {
      "cell_type": "code",
      "metadata": {
        "colab": {
          "base_uri": "https://localhost:8080/"
        },
        "id": "tDGxysX3Ab3M",
        "outputId": "97186026-f5ba-458f-f7b7-02a14a0bf9c5"
      },
      "source": [
        "x= int(input(\"Introduce un número: \"))\n",
        "y=int(input(\"Introduce otro numero: \"))\n",
        "\n",
        "op=0\n",
        "\n",
        "\n",
        "while op<1:\n",
        "  print(\"Que desea hacer? 1)Sumar 2)Restar 3)Multiplicar 4) Dividir 5)Exponente 6)Salir\")\n",
        "  op= int(input(\"Opcion: \"))\n",
        "\n",
        "  if op ==1:\n",
        "    print(\"Resultado: \", x+y)\n",
        "    op=0\n",
        "  elif op ==2:\n",
        "   print(\"Resultado: \", x-y)\n",
        "   op=0\n",
        "  elif op ==3:\n",
        "     print(\"Resultado: \", x*y)\n",
        "     op=0\n",
        "  elif op==4:\n",
        "    print(\"Resultado: \", x/y)\n",
        "    op=0\n",
        "  elif op==5:\n",
        "    print(\"Resultado: \", x**y)\n",
        "    op=0\n",
        "  elif op==6:\n",
        "    print(\"Gracias por usar el programa\")\n",
        "    op= 6\n",
        "  else:\n",
        "      print(\"opcion invalida\")"
      ],
      "execution_count": 276,
      "outputs": [
        {
          "output_type": "stream",
          "text": [
            "Introduce un número: 3\n",
            "Introduce otro numero: 3\n",
            "Que desea hacer? 1)Sumar 2)Restar 3)Multiplicar 4) Dividir 5)Exponente 6)Salir\n",
            "Opcion: 1\n",
            "Resultado:  6\n",
            "Que desea hacer? 1)Sumar 2)Restar 3)Multiplicar 4) Dividir 5)Exponente 6)Salir\n",
            "Opcion: 6\n",
            "Gracias por usar el programa\n"
          ],
          "name": "stdout"
        }
      ]
    },
    {
      "cell_type": "markdown",
      "metadata": {
        "id": "iYpMW6cKKBun"
      },
      "source": [
        "**Ejercicio 3**"
      ]
    },
    {
      "cell_type": "code",
      "metadata": {
        "colab": {
          "base_uri": "https://localhost:8080/"
        },
        "id": "SSKXGhmxKEDJ",
        "outputId": "9edcaef9-4e5d-4479-f9e5-30b1c1fc81db"
      },
      "source": [
        "for i in range(1,30):\n",
        "  if i % 3==0:\n",
        "    print(i)\n",
        "\n",
        "suma=0\n",
        "for i in range(1,31):\n",
        "  if i % 3==0:\n",
        "    suma= suma + i\n",
        "\n",
        "print(\"Suma: \", suma)"
      ],
      "execution_count": 277,
      "outputs": [
        {
          "output_type": "stream",
          "text": [
            "3\n",
            "6\n",
            "9\n",
            "12\n",
            "15\n",
            "18\n",
            "21\n",
            "24\n",
            "27\n",
            "Suma:  165\n"
          ],
          "name": "stdout"
        }
      ]
    },
    {
      "cell_type": "markdown",
      "metadata": {
        "id": "b1irmEm9MbvT"
      },
      "source": [
        "**Ejercicio 4**"
      ]
    },
    {
      "cell_type": "code",
      "metadata": {
        "colab": {
          "base_uri": "https://localhost:8080/"
        },
        "id": "wWdahwBuMdjf",
        "outputId": "4a632785-35c4-4826-91b0-bbc075e04603"
      },
      "source": [
        "num=int(input(\"Introduzca un numero: \"))\n",
        "\n",
        "if num % 2 ==0:\n",
        "  print(\"El numero \", num, \"es par\")\n",
        "else:\n",
        " print(\"El numero \", num, \"es impar\")\n",
        "\n",
        "cont=1\n",
        "for i in range(2,num+1):\n",
        "  if num% i==0:\n",
        "    cont= cont +1\n",
        "\n",
        "if cont ==2:\n",
        "  print(\"El numero \",num,\"es primo\")\n",
        "else:\n",
        "   print(\"El numero \",num,\"No es primo\")"
      ],
      "execution_count": 278,
      "outputs": [
        {
          "output_type": "stream",
          "text": [
            "Introduzca un numero: 7\n",
            "El numero  7 es impar\n",
            "El numero  7 es primo\n"
          ],
          "name": "stdout"
        }
      ]
    },
    {
      "cell_type": "markdown",
      "metadata": {
        "id": "Lmmftp-UQwGj"
      },
      "source": [
        "Ejercicio 5"
      ]
    },
    {
      "cell_type": "code",
      "metadata": {
        "colab": {
          "base_uri": "https://localhost:8080/"
        },
        "id": "0539ZTZxQykW",
        "outputId": "1276e58d-c148-439b-f112-75d821a0b852"
      },
      "source": [
        "#Calculadora usando clases\n",
        "\n",
        "class calc:\n",
        "  def __init__(self, n1, n2):\n",
        "    self.n1=int(n1)\n",
        "    self.n2=int(n2)\n",
        "\n",
        "  def suma(self):\n",
        "        sum = self.n1 + self.n2\n",
        "        print(\"Resultado: \", sum)\n",
        "\n",
        "  def resta(self):\n",
        "        rest= self.n1 - self.n2\n",
        "        print(\"Resultado: \", rest)\n",
        "\n",
        "  def multiplicar(self):\n",
        "        mult = self.n1 * self.n2\n",
        "        print(\"Resultado: \", mult)\n",
        "\n",
        "  def division(self):\n",
        "        div = self.n1 / self.n2\n",
        "        print(\"Resultado: \", div)\n",
        "\n",
        "  def exponente(self):\n",
        "     exp = self.n1 ** self.n2\n",
        "     print(\"Resultado: \", exp)\n",
        "\n",
        "n1= int(input(\"Introduce un número: \"))\n",
        "n2=int(input(\"Introduce otro numero: \"))\n",
        "\n",
        "calculadora=calc(n1,n2)\n",
        "  \n",
        "op=0\n",
        "\n",
        "#Menu opciones\n",
        "while op<1:\n",
        "  print(\"Que desea hacer? 1)Sumar 2)Restar 3)Multiplicar 4) Dividir 5)Exponente 6)Salir\")\n",
        "  op= int(input(\"Opcion: \"))\n",
        "  \n",
        "  if op ==1:\n",
        "    calculadora.suma()\n",
        "    op=0\n",
        "  elif op ==2:\n",
        "   calculadora.resta()\n",
        "   op=0\n",
        "  elif op ==3:\n",
        "     calculadora.multiplicar()\n",
        "     op=0\n",
        "  elif op==4:\n",
        "    calculadora.division()\n",
        "    op=0\n",
        "  elif op==5:\n",
        "    calculadora.exponente()\n",
        "    op=0\n",
        "  elif op==6:\n",
        "    print(\"Gracias por usar el programa\")\n",
        "    op= 6\n",
        "  else:\n",
        "      print(\"opcion invalida\")\n"
      ],
      "execution_count": 279,
      "outputs": [
        {
          "output_type": "stream",
          "text": [
            "Introduce un número: 3\n",
            "Introduce otro numero: 10\n",
            "Que desea hacer? 1)Sumar 2)Restar 3)Multiplicar 4) Dividir 5)Exponente 6)Salir\n",
            "Opcion: 5\n",
            "Resultado:  59049\n",
            "Que desea hacer? 1)Sumar 2)Restar 3)Multiplicar 4) Dividir 5)Exponente 6)Salir\n",
            "Opcion: 6\n",
            "Gracias por usar el programa\n"
          ],
          "name": "stdout"
        }
      ]
    },
    {
      "cell_type": "markdown",
      "metadata": {
        "id": "-aD_eN3MRCYF"
      },
      "source": [
        "**Ejercicios Tupla**"
      ]
    },
    {
      "cell_type": "markdown",
      "metadata": {
        "id": "fl8WNowgTqBB"
      },
      "source": [
        "\n",
        "\n",
        "*   Crear una variable flotante, integer, boleana y compleja e imprimir el tipo de variable que es\n",
        "\n"
      ]
    },
    {
      "cell_type": "code",
      "metadata": {
        "colab": {
          "base_uri": "https://localhost:8080/"
        },
        "id": "-pCFx_NYREv1",
        "outputId": "4b03c701-3765-4da7-8e3e-aead029286af"
      },
      "source": [
        "\n",
        "x=45.56\n",
        "y=80\n",
        "z=True\n",
        "u=657.23e+34\n",
        "\n",
        "print(type(x))\n",
        "print(type(y))\n",
        "print(type(z))\n",
        "print(type(u))\n"
      ],
      "execution_count": 280,
      "outputs": [
        {
          "output_type": "stream",
          "text": [
            "<class 'float'>\n",
            "<class 'int'>\n",
            "<class 'bool'>\n",
            "<class 'float'>\n"
          ],
          "name": "stdout"
        }
      ]
    },
    {
      "cell_type": "markdown",
      "metadata": {
        "id": "RhFp7CAPTwBv"
      },
      "source": [
        "\n",
        "\n",
        "*   Crear una tupla con valores enteros imprimir el primer y ultimo valor\n"
      ]
    },
    {
      "cell_type": "code",
      "metadata": {
        "colab": {
          "base_uri": "https://localhost:8080/"
        },
        "id": "DPrTF12vUCxg",
        "outputId": "6814b16d-6053-4121-b9e6-2087514d63c1"
      },
      "source": [
        "#\n",
        "t1 = (20, 45, 10, 9, 13, 30)\n",
        "\n",
        "print(t1[0])\n",
        "\n",
        "print(t1[5])\n"
      ],
      "execution_count": 281,
      "outputs": [
        {
          "output_type": "stream",
          "text": [
            "20\n",
            "30\n"
          ],
          "name": "stdout"
        }
      ]
    },
    {
      "cell_type": "markdown",
      "metadata": {
        "id": "EnRcnScwXwIL"
      },
      "source": [
        "\n",
        "\n",
        "*   Añadir 3 valores de string a la tupla.\n"
      ]
    },
    {
      "cell_type": "code",
      "metadata": {
        "colab": {
          "base_uri": "https://localhost:8080/"
        },
        "id": "Gndhms-cX0u7",
        "outputId": "a84e9f26-c760-42d3-cac0-91bade826fb5"
      },
      "source": [
        "t1 = (20, 45, 10, 9, 13, 30)\n",
        "t1 = t1.__add__(('s1',))\n",
        "t1=t1.__add__(('s2',))\n",
        "t1=t1.__add__(('s3',))\n",
        "print(t1)\n",
        "#Verificar si una variable existe dentro de la tupla\n",
        "30 in t1"
      ],
      "execution_count": 282,
      "outputs": [
        {
          "output_type": "stream",
          "text": [
            "(20, 45, 10, 9, 13, 30, 's1', 's2', 's3')\n"
          ],
          "name": "stdout"
        },
        {
          "output_type": "execute_result",
          "data": {
            "text/plain": [
              "True"
            ]
          },
          "metadata": {},
          "execution_count": 282
        }
      ]
    },
    {
      "cell_type": "markdown",
      "metadata": {
        "id": "_9UVpf_XYDAZ"
      },
      "source": [
        "\n",
        "**Ejercicios** **Listas**\n"
      ]
    },
    {
      "cell_type": "markdown",
      "metadata": {
        "id": "pj5s-aRVZyqf"
      },
      "source": [
        "\n",
        "\n",
        "*  Crear una lista con 40 elementos aleatorios enteros. \n",
        "*  Con una funcion (def) crear dos listas nuevas a partir de la lista creada por numeros aleatorios, en la cual en una esten los elementos pares, y en la otra los elementos impares\n",
        "*   Ordenar los elementos de la lista par de mayor a menor, y los de la lista impar de menor a mayor.\n",
        "\n",
        "*  Utilizar al menos cuatro de las funciones de listas en python en la lista original de 40 elementos.\n",
        "\n",
        "\n",
        "\n",
        "\n",
        "\n",
        "\n"
      ]
    },
    {
      "cell_type": "code",
      "metadata": {
        "colab": {
          "base_uri": "https://localhost:8080/"
        },
        "id": "4vRj-CepYJy3",
        "outputId": "f2062cda-2d77-4776-8125-e612c5bada12"
      },
      "source": [
        "import random\n",
        "list1= []\n",
        "for i in range(0,40):\n",
        "  al= random.randint(1,1000)\n",
        "  list1.append(al)\n",
        "print(list1)\n",
        "\n",
        "\n",
        "#Crear dos listas a partir de la primera separando numeros pares e impares\n",
        "\n",
        "def func_listas(list1):\n",
        "  listpar= []\n",
        "  listimp= []\n",
        "  for i in list1:\n",
        "    if i % 2 ==0:\n",
        "      listpar.append(i)\n",
        "    else: \n",
        "     listimp.append(i)\n",
        "  return listpar, listimp\n",
        "\n",
        "\n",
        "\n",
        "\n"
      ],
      "execution_count": 283,
      "outputs": [
        {
          "output_type": "stream",
          "text": [
            "[142, 982, 666, 963, 350, 290, 753, 177, 102, 713, 356, 997, 899, 148, 447, 544, 895, 407, 484, 126, 531, 196, 128, 930, 195, 673, 879, 314, 491, 202, 64, 873, 770, 982, 559, 725, 482, 438, 663, 191]\n"
          ],
          "name": "stdout"
        }
      ]
    },
    {
      "cell_type": "code",
      "metadata": {
        "colab": {
          "base_uri": "https://localhost:8080/"
        },
        "id": "Drf4gkrxkg8i",
        "outputId": "05eb994c-7f2e-4788-e16e-720d199aa74b"
      },
      "source": [
        "#Crear dos variables con la longitud de ambas listas nuevas e imprimir las variables\n",
        "listap,listai = func_listas(list1)\n",
        "\n",
        "print(\"lista pares: \", listap)\n",
        "print(\"lista impares: \", listai)"
      ],
      "execution_count": 284,
      "outputs": [
        {
          "output_type": "stream",
          "text": [
            "lista pares:  [142, 982, 666, 350, 290, 102, 356, 148, 544, 484, 126, 196, 128, 930, 314, 202, 64, 770, 982, 482, 438]\n",
            "lista impares:  [963, 753, 177, 713, 997, 899, 447, 895, 407, 531, 195, 673, 879, 491, 873, 559, 725, 663, 191]\n"
          ],
          "name": "stdout"
        }
      ]
    },
    {
      "cell_type": "code",
      "metadata": {
        "colab": {
          "base_uri": "https://localhost:8080/"
        },
        "id": "KEm-xTTAkdq4",
        "outputId": "7ade5d4d-321c-46ff-ca4a-6baafa59ddef"
      },
      "source": [
        "#Ordenar los elementos de la lista par de mayor a menor, y los de la lista impar de menor a mayor.\n",
        "\n",
        "ordeni= sorted(listai) #sorted ordena la lista de menor a mayor\n",
        "ordenp= sorted(listap,reverse=True) #Se utiliza reverse=true para ordenar los elementos de mayor a menor\n",
        "print(\"listas ordenadas\")\n",
        "print(\"lista par: \", ordenp)\n",
        "print(\"lista impar: \", ordeni)"
      ],
      "execution_count": 285,
      "outputs": [
        {
          "output_type": "stream",
          "text": [
            "listas ordenadas\n",
            "lista par:  [982, 982, 930, 770, 666, 544, 484, 482, 438, 356, 350, 314, 290, 202, 196, 148, 142, 128, 126, 102, 64]\n",
            "lista impar:  [177, 191, 195, 407, 447, 491, 531, 559, 663, 673, 713, 725, 753, 873, 879, 895, 899, 963, 997]\n"
          ],
          "name": "stdout"
        }
      ]
    },
    {
      "cell_type": "code",
      "metadata": {
        "colab": {
          "base_uri": "https://localhost:8080/"
        },
        "id": "7f7VDF8Iidiz",
        "outputId": "b79e8b34-9db3-41bc-b29f-066bd741ffcb"
      },
      "source": [
        "#Utilizar al menos cuatro de las funciones de listas en python en la lista original de 40 elementos.\n",
        "list1.append(245) #Agrega el numero 245 al final de la lista\n",
        "print(list1)\n",
        "list2= list1.copy() #se utiliza la funcion copy para copiar la lista\n",
        "print(list2)\n",
        "list1.extend([1005,5003]) #Agrega los numeros al final de la lista\n",
        "print(list1)\n",
        "list1.insert(4,3) #Inserta el numero 3 en la quinta posicion de la lista\n",
        "print(list1)"
      ],
      "execution_count": 286,
      "outputs": [
        {
          "output_type": "stream",
          "text": [
            "[142, 982, 666, 963, 350, 290, 753, 177, 102, 713, 356, 997, 899, 148, 447, 544, 895, 407, 484, 126, 531, 196, 128, 930, 195, 673, 879, 314, 491, 202, 64, 873, 770, 982, 559, 725, 482, 438, 663, 191, 245]\n",
            "[142, 982, 666, 963, 350, 290, 753, 177, 102, 713, 356, 997, 899, 148, 447, 544, 895, 407, 484, 126, 531, 196, 128, 930, 195, 673, 879, 314, 491, 202, 64, 873, 770, 982, 559, 725, 482, 438, 663, 191, 245]\n",
            "[142, 982, 666, 963, 350, 290, 753, 177, 102, 713, 356, 997, 899, 148, 447, 544, 895, 407, 484, 126, 531, 196, 128, 930, 195, 673, 879, 314, 491, 202, 64, 873, 770, 982, 559, 725, 482, 438, 663, 191, 245, 1005, 5003]\n",
            "[142, 982, 666, 963, 3, 350, 290, 753, 177, 102, 713, 356, 997, 899, 148, 447, 544, 895, 407, 484, 126, 531, 196, 128, 930, 195, 673, 879, 314, 491, 202, 64, 873, 770, 982, 559, 725, 482, 438, 663, 191, 245, 1005, 5003]\n"
          ],
          "name": "stdout"
        }
      ]
    },
    {
      "cell_type": "markdown",
      "metadata": {
        "id": "EL6l4XKwlGIW"
      },
      "source": [
        "**Ejercicios Diccionarios**"
      ]
    },
    {
      "cell_type": "markdown",
      "metadata": {
        "id": "JhUQkzmllNp3"
      },
      "source": [
        "\n",
        "\n",
        "*   \n",
        "Crear un diccionario de 6 personas que conozcas con su primer nombre y su edad.\n",
        "*  Crear una lista con los valores de la edad y reacomodar la lista de menor a mayor valor.\n",
        "\n",
        "*   Usando el diccionario y un loop, imprimir solo los nombres.\n",
        "*   Añadir dos personas nuevas a tu diccionario, incluyendo edad\n"
      ]
    },
    {
      "cell_type": "code",
      "metadata": {
        "id": "pA9bv1WQlkvK"
      },
      "source": [
        "#Crear un diccionario de 6 personas que conozcas con su primer nombre y su edad.\n",
        "\n",
        "dict1={'Esteban' : 20, 'Jenifer':24, 'Paola':19, 'Angela':20, 'Brandon':22, 'Brayan':23}\n",
        "\n"
      ],
      "execution_count": 288,
      "outputs": []
    },
    {
      "cell_type": "code",
      "metadata": {
        "colab": {
          "base_uri": "https://localhost:8080/"
        },
        "id": "_Q7Rpt-soLhh",
        "outputId": "6d408780-092f-413a-e710-42ee62fb2a0f"
      },
      "source": [
        "#Crear una lista con los valores de la edad y reacomodar la lista de menor a mayor valor.\n",
        "list(dict1.values())\n",
        "sorted(list(dict1.values()))"
      ],
      "execution_count": 289,
      "outputs": [
        {
          "output_type": "execute_result",
          "data": {
            "text/plain": [
              "[19, 20, 20, 22, 23, 24]"
            ]
          },
          "metadata": {},
          "execution_count": 289
        }
      ]
    },
    {
      "cell_type": "code",
      "metadata": {
        "colab": {
          "base_uri": "https://localhost:8080/"
        },
        "id": "0hdBx6J6oC-D",
        "outputId": "9c413283-6266-48b9-a7b9-c99d9893502f"
      },
      "source": [
        "#Usando el diccionario y un loop, imprimir solo los nombres.\n",
        "for i in dict1: print(i)"
      ],
      "execution_count": 290,
      "outputs": [
        {
          "output_type": "stream",
          "text": [
            "Esteban\n",
            "Jenifer\n",
            "Paola\n",
            "Angela\n",
            "Brandon\n",
            "Brayan\n"
          ],
          "name": "stdout"
        }
      ]
    },
    {
      "cell_type": "code",
      "metadata": {
        "colab": {
          "base_uri": "https://localhost:8080/"
        },
        "id": "GUlkRCTBoQZO",
        "outputId": "b1df0c65-cd16-471f-96ef-6a64ea0d3c7b"
      },
      "source": [
        "#Añadir dos personas nuevas a tu diccionario, incluyendo edad\n",
        "dict1['Carolina']= 21\n",
        "dict1['Jesus']= 18\n",
        "print(dict1)"
      ],
      "execution_count": 291,
      "outputs": [
        {
          "output_type": "stream",
          "text": [
            "{'Esteban': 20, 'Jenifer': 24, 'Paola': 19, 'Angela': 20, 'Brandon': 22, 'Brayan': 23, 'Carolina': 21, 'Jesus': 18}\n"
          ],
          "name": "stdout"
        }
      ]
    },
    {
      "cell_type": "markdown",
      "metadata": {
        "id": "xJVw5TRnpcZj"
      },
      "source": [
        "**Ejercicios Sets**"
      ]
    },
    {
      "cell_type": "markdown",
      "metadata": {
        "id": "k0f2W05ypi9v"
      },
      "source": [
        "\n",
        "\n",
        "*   Crea un set con 100 numeros aleatorios enteros del 1 al 25.\n",
        "\n",
        "\n",
        "\n",
        "*   Comprueba la longitud de tu set.\n",
        "\n",
        "\n",
        "\n",
        "*   \n",
        "Crea una lista de 5 numeros aleatorios del 1 al 10 y comprueba si cada valor aparece en el set inicial.\n",
        "\n"
      ]
    },
    {
      "cell_type": "code",
      "metadata": {
        "id": "8sMnXoiMprZ5"
      },
      "source": [
        "import random\n",
        "set1= set()\n",
        "cont=0\n",
        "\n",
        "def num_aleatorios():\n",
        "    al=random.randint(1,25)\n",
        "    return al\n",
        "\n",
        "for n in range(0,100):\n",
        "  num=num_aleatorios()\n",
        "  set1.add(num)\n",
        "\n"
      ],
      "execution_count": 298,
      "outputs": []
    },
    {
      "cell_type": "code",
      "metadata": {
        "colab": {
          "base_uri": "https://localhost:8080/"
        },
        "id": "mp9U-fBJzKqQ",
        "outputId": "864e0839-4434-4a26-e394-ba6be36d45f3"
      },
      "source": [
        "#Comprobar longitud del set\n",
        "print(len(set1)) #Un set no puede tener elementos duplicados\n",
        "print(set1)"
      ],
      "execution_count": 299,
      "outputs": [
        {
          "output_type": "stream",
          "text": [
            "25\n",
            "{1, 2, 3, 4, 5, 6, 7, 8, 9, 10, 11, 12, 13, 14, 15, 16, 17, 18, 19, 20, 21, 22, 23, 24, 25}\n"
          ],
          "name": "stdout"
        }
      ]
    },
    {
      "cell_type": "code",
      "metadata": {
        "colab": {
          "base_uri": "https://localhost:8080/"
        },
        "id": "H8EfPnKqzg9s",
        "outputId": "b086f5b0-cc13-4046-d4d5-81104a2ba278"
      },
      "source": [
        "#Crea una lista de 5 numeros aleatorios del 1 al 10 y comprueba si cada valor aparece en el set inicial.\n",
        "listnew= []\n",
        "\n",
        "for n in range(0,5):\n",
        " num=random.randint(1,10)\n",
        " listnew.append(num)\n",
        "\n",
        "print(listnew)\n",
        "\n",
        "for i in range(0,5):\n",
        " listnew[i] in set1\n",
        " print(\"El valor\",listnew[i],\"Esta en el set\")"
      ],
      "execution_count": 293,
      "outputs": [
        {
          "output_type": "stream",
          "text": [
            "[1, 10, 2, 9, 4]\n",
            "El valor 1 Esta en el set\n",
            "El valor 10 Esta en el set\n",
            "El valor 2 Esta en el set\n",
            "El valor 9 Esta en el set\n",
            "El valor 4 Esta en el set\n"
          ],
          "name": "stdout"
        }
      ]
    }
  ]
}